{
  "cells": [
    {
      "cell_type": "markdown",
      "metadata": {
        "id": "l3h89jAYBUzz"
      },
      "source": [
        "# **<font color=blue>P1.** </font>Rename this notebook **Bioinformatics_Module03.ipynb </font><br>**"
      ]
    },
    {
      "cell_type": "markdown",
      "metadata": {
        "id": "jYlnA2Z2FhoW"
      },
      "source": [
        "# **<font color=blue>P2. </font>**```print()```writes to standard output (i.e. prints output to the screen)"
      ]
    },
    {
      "cell_type": "markdown",
      "metadata": {
        "id": "r118fqQodA9x"
      },
      "source": [
        "####**TASK P2.1:** Print <font color = magenta>hello world</font>"
      ]
    },
    {
      "cell_type": "code",
      "execution_count": 1,
      "metadata": {
        "colab": {
          "base_uri": "https://localhost:8080/"
        },
        "id": "kvxK8D5uFx_x",
        "outputId": "45c1b50f-1f02-43fe-8566-7a7a8cf4a751"
      },
      "outputs": [
        {
          "name": "stdout",
          "output_type": "stream",
          "text": [
            "hello world\n"
          ]
        }
      ],
      "source": [
        "print(\"hello world\")"
      ]
    },
    {
      "cell_type": "markdown",
      "metadata": {
        "id": "qRj8vCvXG-1k"
      },
      "source": [
        "# **<font color=blue>P3. </font>**```=``` is the ASSIGNMENT operator (assigns values to variables)\n",
        "####**TASK P3.1:** Ask Gemini, \"*Give me 3 examples to help practice understanding the assignment operator.*\""
      ]
    },
    {
      "cell_type": "code",
      "execution_count": 32,
      "metadata": {
        "colab": {
          "base_uri": "https://localhost:8080/"
        },
        "id": "lAlqBKGask5U",
        "outputId": "0a3e9b29-a41d-49bb-b2c6-c998947eeb16"
      },
      "outputs": [
        {
          "name": "stdout",
          "output_type": "stream",
          "text": [
            "my_integer: 10\n",
            "my_string: Hello\n",
            "result: 8\n"
          ]
        }
      ],
      "source": [
        "# Example 1: Assigning an integer to a variable\n",
        "my_integer = 10\n",
        "print(f\"my_integer: {my_integer}\")\n",
        "\n",
        "# Example 2: Assigning a string to a variable\n",
        "my_string = \"Hello\"\n",
        "print(f\"my_string: {my_string}\")\n",
        "\n",
        "# Example 3: Assigning the result of an operation to a variable\n",
        "result = 5 + 3\n",
        "print(f\"result: {result}\")"
      ]
    },
    {
      "cell_type": "markdown",
      "metadata": {
        "id": "s7deJQCHHwOa"
      },
      "source": [
        "# **<font color=blue>P4. </font>** Data types: use ```type()``` to find a variable's \"type\"\n",
        "####**TASK P4.1:** Ask Gemini, \"*Give me examples of each data type to see how they look as outputs.*\""
      ]
    },
    {
      "cell_type": "code",
      "execution_count": null,
      "metadata": {
        "id": "ycpkqCcrsrNz"
      },
      "outputs": [],
      "source": [
        "# Integer\n",
        "my_int = 10\n",
        "print(f\"Integer: {my_int}, Type: {type(my_int)}\")\n",
        "\n",
        "# Float\n",
        "my_float = 3.14\n",
        "print(f\"Float: {my_float}, Type: {type(my_float)}\")\n",
        "\n",
        "# String\n",
        "my_string = \"Hello World\"\n",
        "print(f\"String: {my_string}, Type: {type(my_string)}\")\n",
        "\n",
        "# Boolean\n",
        "my_boolean = True\n",
        "print(f\"Boolean: {my_boolean}, Type: {type(my_boolean)}\")\n",
        "\n",
        "# List\n",
        "my_list = [1, 2, 3, \"four\"]\n",
        "print(f\"List: {my_list}, Type: {type(my_list)}\")\n",
        "\n",
        "# Tuple\n",
        "my_tuple = (10, 20, 30)\n",
        "print(f\"Tuple: {my_tuple}, Type: {type(my_tuple)}\")\n",
        "\n",
        "# Dictionary\n",
        "my_dict = {\"name\": \"Alice\", \"age\": 30}\n",
        "print(f\"Dictionary: {my_dict}, Type: {type(my_dict)}\")\n",
        "\n",
        "# Set\n",
        "my_set = {1, 2, 3, 3}\n",
        "print(f\"Set: {my_set}, Type: {type(my_set)}\")"
      ]
    },
    {
      "cell_type": "markdown",
      "metadata": {
        "id": "GtjxkNHWN5Xo"
      },
      "source": [
        "# **<font color=blue>P5. </font>** Arithmetic and comparison operators\n",
        "####**TASK P5.1:**   Complete Rosalind #1"
      ]
    },
    {
      "cell_type": "code",
      "execution_count": 7,
      "metadata": {
        "colab": {
          "base_uri": "https://localhost:8080/"
        },
        "id": "45s9c4vyQm2U",
        "outputId": "c7842a5a-af80-46e6-b0d8-d44cf92ab620"
      },
      "outputs": [
        {
          "name": "stdout",
          "output_type": "stream",
          "text": [
            "The sq of the hypotenuse is 34\n"
          ]
        }
      ],
      "source": [
        "def rosalind_1(a,b):\n",
        "  c=a**2+b**2\n",
        "  print (\"The sq of the hypotenuse is\",c)\n",
        "rosalind_1(3,5)"
      ]
    },
    {
      "cell_type": "markdown",
      "metadata": {
        "id": "3yswDberkE7N"
      },
      "source": [
        "# **<font color=blue>P6. </font>** ```input()``` gets input from the user"
      ]
    },
    {
      "cell_type": "markdown",
      "metadata": {
        "id": "z97rSY9gqdad"
      },
      "source": [
        "TASK P6.1"
      ]
    },
    {
      "cell_type": "code",
      "execution_count": 8,
      "metadata": {
        "colab": {
          "base_uri": "https://localhost:8080/"
        },
        "id": "d91046dd",
        "outputId": "8cbea8b4-6132-4621-ef30-adab218aa480"
      },
      "outputs": [
        {
          "name": "stdout",
          "output_type": "stream",
          "text": [
            "Enter your name: Pratyaksh\n",
            "Hello, Pratyaksh\n"
          ]
        }
      ],
      "source": [
        "name = input(\"Enter your name: \")\n",
        "print(\"Hello, \" + name)"
      ]
    },
    {
      "cell_type": "markdown",
      "metadata": {
        "id": "e3LaAQeLRmE6"
      },
      "source": [
        "####**TASK P6.1:** Solve Rosalind #1 again, but get user input for the values of a and b rather than modifying the code."
      ]
    },
    {
      "cell_type": "code",
      "execution_count": 9,
      "metadata": {
        "colab": {
          "base_uri": "https://localhost:8080/"
        },
        "id": "wZ0XL0L6Rq2H",
        "outputId": "b46e68f5-6979-4e13-e67d-92e7a8179428"
      },
      "outputs": [
        {
          "name": "stdout",
          "output_type": "stream",
          "text": [
            "enter a value for a:3\n",
            "enter a value for b:4\n",
            "The sq of the hypotenuse is 25\n"
          ]
        }
      ],
      "source": [
        "a= int(input(\"enter a value for a:\"))\n",
        "b= int(input(\"enter a value for b:\"))\n",
        "c=a**2+b**2\n",
        "print (\"The sq of the hypotenuse is\",c)"
      ]
    },
    {
      "cell_type": "markdown",
      "metadata": {
        "id": "4IM-9eAGkPdi"
      },
      "source": [
        "# **<font color=blue>P7. </font>** ```list``` type variables (create, replace, append)"
      ]
    },
    {
      "cell_type": "markdown",
      "metadata": {
        "id": "DhNGdYK6NEpe"
      },
      "source": [
        "####**TASK P7.1**"
      ]
    },
    {
      "cell_type": "code",
      "execution_count": 17,
      "metadata": {
        "colab": {
          "base_uri": "https://localhost:8080/"
        },
        "id": "N3VRRQIEkXuP",
        "outputId": "de19f7c9-8bc0-4048-a1bf-cf63a3411b59"
      },
      "outputs": [
        {
          "name": "stdout",
          "output_type": "stream",
          "text": [
            "World\n"
          ]
        }
      ],
      "source": [
        "# Create a list with 3 elements and then print them\n",
        "\n",
        "my_list = [\"Hello\", \"World\", \"Charles Darwin\"]\n",
        "print (my_list[1])"
      ]
    },
    {
      "cell_type": "markdown",
      "metadata": {
        "id": "Yn3bAoi8NKy5"
      },
      "source": [
        "####**TASK P7.2**"
      ]
    },
    {
      "cell_type": "code",
      "execution_count": 18,
      "metadata": {
        "colab": {
          "base_uri": "https://localhost:8080/"
        },
        "id": "WNnsUuduOKbI",
        "outputId": "463ba806-4e63-4cb4-d41c-f5edaec71a01"
      },
      "outputs": [
        {
          "name": "stdout",
          "output_type": "stream",
          "text": [
            "['Hello', 'World', 'Alfred R. Wallace']\n"
          ]
        }
      ],
      "source": [
        "# Substitute the item at index 2 in the list\n",
        "my_list[2] = \"Alfred R. Wallace\"\n",
        "print (my_list)"
      ]
    },
    {
      "cell_type": "markdown",
      "metadata": {
        "id": "SxiMMNLyPwGV"
      },
      "source": [
        "####**TASK P7.3**"
      ]
    },
    {
      "cell_type": "code",
      "execution_count": 19,
      "metadata": {
        "colab": {
          "base_uri": "https://localhost:8080/"
        },
        "id": "3VrLc6CGQTi-",
        "outputId": "07f33aae-26f1-4c9f-a164-ae1b819f4bfc"
      },
      "outputs": [
        {
          "name": "stdout",
          "output_type": "stream",
          "text": [
            "['Hello', 'World', 'Alfred R. Wallace', 'Charles Darwin']\n"
          ]
        }
      ],
      "source": [
        "# Append an item to the end of the list\n",
        "my_list.append(\"Charles Darwin\")\n",
        "print (my_list)"
      ]
    },
    {
      "cell_type": "markdown",
      "metadata": {
        "id": "XQKmwgbfQond"
      },
      "source": [
        "####**TASK P7.4**. Ask Gemini how to <font color=crimson>```insert```</font> a new item at index 1 in the list"
      ]
    },
    {
      "cell_type": "code",
      "execution_count": 20,
      "metadata": {
        "colab": {
          "base_uri": "https://localhost:8080/"
        },
        "id": "u0maP5CZZN13",
        "outputId": "7c15fc72-01bc-40ce-9c4e-f1a446bff9d6"
      },
      "outputs": [
        {
          "name": "stdout",
          "output_type": "stream",
          "text": [
            "['Hello', 'pratyaksh', 'World', 'Alfred R. Wallace', 'Charles Darwin']\n"
          ]
        }
      ],
      "source": [
        "# On line #2 insert an item at index 1 of my_list\n",
        "my_list.insert(1,\"pratyaksh\")\n",
        "print (my_list)"
      ]
    },
    {
      "cell_type": "markdown",
      "metadata": {
        "id": "nlBbe3qBRH_J"
      },
      "source": [
        "# **<font color=blue>P8. </font>** Slicing lists and strings"
      ]
    },
    {
      "cell_type": "markdown",
      "metadata": {
        "id": "M0YW2MP0WtuI"
      },
      "source": [
        "####**TASK P8.1** Slice and print only the middle two elements from the list created in P7 (i.e. only <font color=magenta>World</font> and <font color=magenta>Alfred R. Wallace</font>).  "
      ]
    },
    {
      "cell_type": "code",
      "execution_count": 21,
      "metadata": {
        "colab": {
          "base_uri": "https://localhost:8080/"
        },
        "id": "Tp1djNtiaxSb",
        "outputId": "c18621d0-cdcf-4391-b08e-0a38bfcf22d3"
      },
      "outputs": [
        {
          "name": "stdout",
          "output_type": "stream",
          "text": [
            "['World', 'Alfred R. Wallace']\n"
          ]
        }
      ],
      "source": [
        "print (my_list[2:4])"
      ]
    },
    {
      "cell_type": "markdown",
      "metadata": {
        "id": "_F9KCUzCd3ID"
      },
      "source": [
        "####**TASK P8.2**: Print <font color=magenta>Wallace World</font> from **my_string** by slicing\n"
      ]
    },
    {
      "cell_type": "code",
      "execution_count": 29,
      "metadata": {
        "colab": {
          "base_uri": "https://localhost:8080/"
        },
        "id": "AafKngtba8En",
        "outputId": "dd140f10-6eef-425a-e371-e2cb94775f2e"
      },
      "outputs": [
        {
          "name": "stdout",
          "output_type": "stream",
          "text": [
            "Hello World\n",
            "Walace World\n"
          ]
        }
      ],
      "source": [
        "my_string = \"HelloWorldCharlesDarwinAlfred R. Walace\"\n",
        "print (my_string[0:5],my_string[5:10])\n",
        "\n",
        "# in the print command below input the correct index values to complete Task P8.2\n",
        "print (my_string[ -6: ],my_string[5:10])"
      ]
    },
    {
      "cell_type": "markdown",
      "metadata": {
        "id": "2TTQVE-Xf8jR"
      },
      "source": [
        "####**TASK P8.3**  **<font color = orange> Complete Rosalind Problem #2 Strings and Lists</font>**"
      ]
    },
    {
      "cell_type": "code",
      "execution_count": 33,
      "metadata": {
        "colab": {
          "base_uri": "https://localhost:8080/"
        },
        "id": "LI88f5RZh4GL",
        "outputId": "a3babd10-0fa9-4607-9cda-d5f81173a152"
      },
      "outputs": [
        {
          "name": "stdout",
          "output_type": "stream",
          "text": [
            "Regulus cygnus\n"
          ]
        }
      ],
      "source": [
        "# Enter code for Rosalind 2 here:\n",
        "string = \"Fwzew1KvqEmN4PrbSrHRQVMVc68SOK6MhZFbyZ9WAjZ3FZfZ9Ui3Gi7GJjRzJRegulusfbD2PUEhEjTvwj2cygnus9UMuYhNuIZtel2kSwxhTiCbr0Lpi6xVd1bhHZ4B9RIyQv1mKHuml9lAtjOBwGmsVqMM0uF.\"\n",
        "a = 61\n",
        "b = 67\n",
        "c = 83\n",
        "d = 88\n",
        "print (string[a:b+1], string[c:d+1])\n",
        "\n"
      ]
    },
    {
      "cell_type": "markdown",
      "metadata": {
        "id": "Tw6Pwh6TjwJ9"
      },
      "source": [
        "####**<font color=crimson>TASK 8.4 Commit to GitHub**</font>*italicized text*"
      ]
    },
    {
      "cell_type": "markdown",
      "metadata": {
        "id": "iHFNxm30lzic"
      },
      "source": [
        "# **<font color=blue>P9. </font>** ```if``` and ```else``` - conditional output"
      ]
    },
    {
      "cell_type": "markdown",
      "metadata": {
        "id": "WCXnGdftztbN"
      },
      "source": [
        "####**TASK P9.1** Create some code that subtracts two numbers if they are different or adds them if they are the same."
      ]
    },
    {
      "cell_type": "code",
      "execution_count": 34,
      "metadata": {
        "colab": {
          "base_uri": "https://localhost:8080/"
        },
        "id": "KabZsL5Fy8jJ",
        "outputId": "3037561c-98fe-4d6a-ff3a-5f25bdbdc0d1"
      },
      "outputs": [
        {
          "name": "stdout",
          "output_type": "stream",
          "text": [
            "10\n"
          ]
        }
      ],
      "source": [
        "a=5\n",
        "b=5\n",
        "\n",
        "if a!=b:\n",
        "  print(a-b)\n",
        "\n",
        "else:\n",
        "  print(a+b)"
      ]
    },
    {
      "cell_type": "markdown",
      "metadata": {
        "id": "sOgq54Op4MZL"
      },
      "source": [
        "# **<font color=blue>P10.</font>** ```while``` loops"
      ]
    },
    {
      "cell_type": "markdown",
      "metadata": {
        "id": "JMqGqhTn4l9s"
      },
      "source": [
        "####**TASK P10.1** Create a while loop that runs 3 times\n"
      ]
    },
    {
      "cell_type": "code",
      "execution_count": null,
      "metadata": {
        "id": "07YbiCGO4O1w"
      },
      "outputs": [],
      "source": [
        "#initiate a counter\n",
        "a = 1\n",
        "\n",
        "#print \"Counting!\" while a<=3\n",
        "while a <= 3:\n",
        "\n",
        "    print (\"Counting!\" * a)\n",
        "    #a += 1"
      ]
    },
    {
      "cell_type": "markdown",
      "metadata": {
        "id": "R5_dYi9f6t1z"
      },
      "source": [
        "# **<font color=blue>P11.</font>** ```for``` loops – looping over lists"
      ]
    },
    {
      "cell_type": "markdown",
      "metadata": {
        "id": "x9F7v_V073wO"
      },
      "source": [
        "####**TASK P11.1** Create a for loop to print each item in a list\n"
      ]
    },
    {
      "cell_type": "code",
      "execution_count": 36,
      "metadata": {
        "colab": {
          "base_uri": "https://localhost:8080/"
        },
        "id": "-aqaQ5hz70yo",
        "outputId": "77889ba2-ebd7-487a-e475-2ba0d6e91711"
      },
      "outputs": [
        {
          "name": "stdout",
          "output_type": "stream",
          "text": [
            "Hello Alice\n",
            "Hello Bob\n",
            "Hello Charley\n"
          ]
        }
      ],
      "source": [
        "names = [\"Alice\",\"Bob\",\"Charley\"]\n",
        "\n",
        "for name in names:\n",
        "    print (\"Hello\", name)"
      ]
    },
    {
      "cell_type": "markdown",
      "metadata": {
        "id": "LdtXZ0LW9ugo"
      },
      "source": [
        "# **<font color=blue>P12.</font>** ```for``` loops over a ```range()```of numbers"
      ]
    },
    {
      "cell_type": "markdown",
      "metadata": {
        "id": "jG6jvXEBDi4H"
      },
      "source": [
        "####**TASK 12.1** Using for and range(), create code that prints the numbers 0-9"
      ]
    },
    {
      "cell_type": "code",
      "execution_count": null,
      "metadata": {
        "colab": {
          "base_uri": "https://localhost:8080/"
        },
        "id": "RFBXqQNu_E6X",
        "outputId": "17ea3665-5605-49cb-8207-56ae8b5b34ee"
      },
      "outputs": [
        {
          "name": "stdout",
          "output_type": "stream",
          "text": [
            "0\n",
            "1\n",
            "2\n",
            "3\n",
            "4\n",
            "5\n",
            "6\n",
            "7\n",
            "8\n",
            "9\n"
          ]
        }
      ],
      "source": [
        "# Create a variable to define the  number of iterations\n",
        "iterations = 10\n",
        "\n",
        "#Print the current item's value each time through the loop\n",
        "for number in range(iterations):\n",
        "    print (number)"
      ]
    },
    {
      "cell_type": "markdown",
      "metadata": {
        "id": "NRd5srR_G-PQ"
      },
      "source": [
        "####**TASK 12.2** Modify the code so that it only prints every 3rd number from 9 through 27 (i.e. including 27)"
      ]
    },
    {
      "cell_type": "code",
      "execution_count": 37,
      "metadata": {
        "colab": {
          "base_uri": "https://localhost:8080/"
        },
        "id": "irYTFPO-IRHo",
        "outputId": "cc8ea4a5-9568-4537-cb92-928224f0a40c"
      },
      "outputs": [
        {
          "name": "stdout",
          "output_type": "stream",
          "text": [
            "9\n",
            "12\n",
            "15\n",
            "18\n",
            "21\n",
            "24\n",
            "27\n"
          ]
        }
      ],
      "source": [
        "\n",
        "for number in range(9,28):\n",
        "  if number % 3 == 0:\n",
        "   print(number)"
      ]
    },
    {
      "cell_type": "markdown",
      "metadata": {
        "id": "83jDEjpMHXUa"
      },
      "source": [
        "####**TASK 12.3** <font color = orange> **Complete Rosalind Problem #3 Conditions and Loops** </font>"
      ]
    },
    {
      "cell_type": "code",
      "execution_count": 42,
      "metadata": {
        "colab": {
          "base_uri": "https://localhost:8080/"
        },
        "id": "EI7hRtakG90R",
        "outputId": "0ee7f34b-72e5-4611-a090-cee80464f644"
      },
      "outputs": [
        {
          "name": "stdout",
          "output_type": "stream",
          "text": [
            "14653575\n"
          ]
        }
      ],
      "source": [
        "a = 4825\n",
        "b = 9361\n",
        "sum = 0\n",
        "for number in range(a,b+1):\n",
        "  if number % 2 != 0:\n",
        "   sum = sum + number\n",
        "print (sum)"
      ]
    },
    {
      "cell_type": "markdown",
      "metadata": {
        "id": "3P9DKNbPI1wp"
      },
      "source": [
        "####**<font color=crimson>TASK 12.4 Commit to GitHub**</font>"
      ]
    },
    {
      "cell_type": "markdown",
      "metadata": {
        "id": "i4Fo-ddSKWwy"
      },
      "source": [
        "# **<font color=blue>P13.</font>** File I/O – with open(\"filename\", \"mode\") as filehandle:\n"
      ]
    },
    {
      "cell_type": "markdown",
      "metadata": {
        "id": "sgc3wiQmLXcI"
      },
      "source": [
        "####**TASK P13.1** Use the ```read()``` function to print the <font color = orange>practice dataset from Rosalind #4</font>\n"
      ]
    },
    {
      "cell_type": "code",
      "execution_count": 5,
      "metadata": {
        "id": "V5nzHsnULA_n"
      },
      "outputs": [
        {
          "name": "stdout",
          "output_type": "stream",
          "text": [
            "Bravely bold Sir Robin rode forth from Camelot\n",
            "Yes, brave Sir Robin turned about\n",
            "He was not afraid to die, O brave Sir Robin\n",
            "And gallantly he chickened out\n",
            "He was not at all afraid to be killed in nasty ways\n",
            "Bravely talking to his feet\n",
            "Brave, brave, brave, brave Sir Robin\n",
            "He beat a very brave retreat\n"
          ]
        }
      ],
      "source": [
        "with open(\"../practice.txt\",\"r\") as data:\n",
        "\n",
        "    print(data.read())\n",
        "\n",
        "    # print(data.readline())\n",
        "\n",
        "    # print(data.readlines())"
      ]
    },
    {
      "cell_type": "markdown",
      "metadata": {
        "id": "GLO6tBYNVzYZ"
      },
      "source": [
        "####**TASK P13.2** Explore file object functions to read and print practice.txt"
      ]
    },
    {
      "cell_type": "code",
      "execution_count": 45,
      "metadata": {},
      "outputs": [
        {
          "name": "stdout",
          "output_type": "stream",
          "text": [
            "Bravely bold Sir Robin rode forth from Camelot\n",
            "['\\n', 'Yes, brave Sir Robin turned about\\n']\n"
          ]
        }
      ],
      "source": [
        "with open(\"../practice.txt\",\"r\") as data:\n",
        "\n",
        "    print(data.read(46))\n",
        "    print(data.readlines(1))"
      ]
    },
    {
      "cell_type": "markdown",
      "metadata": {
        "id": "iupO8iI-ZYAe"
      },
      "source": [
        "#<font color=blue>**P14.**</font> Store the content, close the file, and join ( ) the list"
      ]
    },
    {
      "cell_type": "code",
      "execution_count": 10,
      "metadata": {
        "id": "8U5w2qOudDyp"
      },
      "outputs": [
        {
          "name": "stdout",
          "output_type": "stream",
          "text": [
            "['Bravely bold Sir Robin rode forth from Camelot\\n', 'Yes, brave Sir Robin turned about\\n', 'He was not afraid to die, O brave Sir Robin\\n', 'And gallantly he chickened out\\n', 'He was not at all afraid to be killed in nasty ways\\n', 'Bravely talking to his feet\\n', 'Brave, brave, brave, brave Sir Robin\\n', 'He beat a very brave retreat']\n"
          ]
        }
      ],
      "source": [
        "with open(\"../practice.txt\",\"r\") as data:\n",
        "\n",
        "  list_of_lines=data.readlines()\n",
        "\n",
        "print (list_of_lines)"
      ]
    },
    {
      "cell_type": "markdown",
      "metadata": {
        "id": "5pPhGmQYiiKx"
      },
      "source": [
        "####**TASK P14.1** Read practice.txt into a list of lines. Then, after the file is closed, use the join ( ) function to print the contents so it looks like the original input."
      ]
    },
    {
      "cell_type": "code",
      "execution_count": 46,
      "metadata": {
        "id": "XLvFZ9uSeyYH"
      },
      "outputs": [
        {
          "name": "stdout",
          "output_type": "stream",
          "text": [
            "Bravely bold Sir Robin rode forth from Camelot\n",
            "Yes, brave Sir Robin turned about\n",
            "He was not afraid to die, O brave Sir Robin\n",
            "And gallantly he chickened out\n",
            "He was not at all afraid to be killed in nasty ways\n",
            "Bravely talking to his feet\n",
            "Brave, brave, brave, brave Sir Robin\n",
            "He beat a very brave retreat\n"
          ]
        }
      ],
      "source": [
        "print(\"\".join(lines for lines in list_of_lines))\n",
        "\n",
        "\n"
      ]
    },
    {
      "cell_type": "markdown",
      "metadata": {
        "id": "lY924yM0jckW"
      },
      "source": [
        "#<font color=blue>**P15.**</font> Combining for loops with file objects"
      ]
    },
    {
      "cell_type": "markdown",
      "metadata": {
        "id": "NvqGEl4JjpiO"
      },
      "source": [
        "####**TASK P15.1** Use a for loop to print each line in practice.txt"
      ]
    },
    {
      "cell_type": "code",
      "execution_count": 48,
      "metadata": {
        "id": "snY-10pUkMby"
      },
      "outputs": [
        {
          "name": "stdout",
          "output_type": "stream",
          "text": [
            "Bravely bold Sir Robin rode forth from Camelot\n",
            "\n",
            "Yes, brave Sir Robin turned about\n",
            "\n",
            "He was not afraid to die, O brave Sir Robin\n",
            "\n",
            "And gallantly he chickened out\n",
            "\n",
            "He was not at all afraid to be killed in nasty ways\n",
            "\n",
            "Bravely talking to his feet\n",
            "\n",
            "Brave, brave, brave, brave Sir Robin\n",
            "\n",
            "He beat a very brave retreat\n"
          ]
        }
      ],
      "source": [
        "with open(\"../practice.txt\",\"r\") as data:\n",
        "\n",
        "  for line in data:\n",
        "    print (line)"
      ]
    },
    {
      "cell_type": "markdown",
      "metadata": {
        "id": "DHzE7CI4lWGw"
      },
      "source": [
        "####**TASK P15.2** <font color=orange>**Complete Rosalind Problem #4 Working with Files**</font>\n"
      ]
    },
    {
      "cell_type": "code",
      "execution_count": 63,
      "metadata": {
        "id": "8QR9dRFtltBN"
      },
      "outputs": [
        {
          "name": "stdout",
          "output_type": "stream",
          "text": [
            "Some things in life are bad, they can really make you mad\n",
            "Other things just make you swear and curse\n",
            "When you're chewing on life's gristle, don't grumble give a whistle\n",
            "This will help things turn out for the best\n",
            "Always look on the bright side of life\n",
            "Always look on the right side of life\n",
            "If life seems jolly rotten, there's something you've forgotten\n",
            "And that's to laugh and smile and dance and sing\n",
            "When you're feeling in the dumps, don't be silly, chumps\n",
            "Just purse your lips and whistle, that's the thing\n",
            "So, always look on the bright side of death\n",
            "Just before you draw your terminal breath\n",
            "Life's a counterfeit and when you look at it\n",
            "Life's a laugh and death's the joke, it's true\n",
            "You see, it's all a show, keep them laughing as you go\n",
            "Just remember the last laugh is on you\n",
            "Always look on the bright side of life\n",
            "And always look on the right side of life\n",
            "Always look on the bright side of life\n",
            "And always look on the right side of life\n",
            "\n"
          ]
        }
      ],
      "source": [
        "with open(\"../practice.txt\",\"r\") as data:\n",
        "\n",
        "  list_of_lines=data.readlines()\n",
        "\n",
        "print(\"\".join(lines for lines in list_of_lines[1::2]))"
      ]
    },
    {
      "cell_type": "markdown",
      "metadata": {
        "id": "GJ_acW4WlwDn"
      },
      "source": [
        "####**<font color=crimson>TASK 15.4 Commit to GitHub**</font>"
      ]
    },
    {
      "cell_type": "markdown",
      "metadata": {
        "id": "WD5wnvQkmh6E"
      },
      "source": [
        "#<font color=blue>**P16.**</font> ```for word in line.split()``` – looping over strings and splitting by any delimiter"
      ]
    },
    {
      "cell_type": "markdown",
      "metadata": {
        "id": "kApNvgOLn8lp"
      },
      "source": [
        "####**TASK P16.1** Print each word in the ROSALIND Problem #5 Sample Dataset on a separate line.\n"
      ]
    },
    {
      "cell_type": "code",
      "execution_count": 64,
      "metadata": {
        "colab": {
          "base_uri": "https://localhost:8080/"
        },
        "id": "PBjyhwclpKoM",
        "outputId": "afb464a8-3407-43ec-e091-5e57dd22b646"
      },
      "outputs": [
        {
          "name": "stdout",
          "output_type": "stream",
          "text": [
            "We\n",
            "tried\n",
            "list\n",
            "and\n",
            "we\n",
            "tried\n",
            "dicts\n",
            "also\n",
            "we\n",
            "tried\n",
            "Zen\n"
          ]
        }
      ],
      "source": [
        "with open(\"../practice_5.txt\",\"r\") as data:\n",
        "\n",
        "  line=data.read()\n",
        "\n",
        "for word in line.split():\n",
        "    print (word)"
      ]
    },
    {
      "cell_type": "markdown",
      "metadata": {
        "id": "kq9QbEttnA4h"
      },
      "source": [
        "#<font color=blue>**P17.**</font> Python Dictionaries { }"
      ]
    },
    {
      "cell_type": "markdown",
      "metadata": {
        "id": "lVudFQkZqJgh"
      },
      "source": [
        "####**TASK 17.1** Create and print your first dictionary"
      ]
    },
    {
      "cell_type": "code",
      "execution_count": 66,
      "metadata": {
        "colab": {
          "base_uri": "https://localhost:8080/"
        },
        "id": "IzKFWDlgq6zo",
        "outputId": "1a4d0584-afcb-46ea-fac1-265bbc7bcd89"
      },
      "outputs": [
        {
          "name": "stdout",
          "output_type": "stream",
          "text": [
            "{'H.neandertalensis': 'ACGTCGCTCTGCTA', 'H.sapiens': 'ACGTCACTCTGCTA'}\n"
          ]
        }
      ],
      "source": [
        "sequences = {\n",
        "    \"H.neandertalensis\":\"ACGTCGCTCTGCTA\",\n",
        "    \"H.sapiens\":\"ACGTCACTCTGCTA\"\n",
        "    }\n",
        "\n",
        "print (sequences)"
      ]
    },
    {
      "cell_type": "markdown",
      "metadata": {
        "id": "OvqoT6UwnK0g"
      },
      "source": [
        "#<font color=blue>**P18.**</font> Manipulating and printing dictionaries"
      ]
    },
    {
      "cell_type": "markdown",
      "metadata": {
        "id": "5Be2tcQRrjso"
      },
      "source": [
        "####**TASK 18.1** Modify line 8 to create a fasta file of the hominid sequences"
      ]
    },
    {
      "cell_type": "code",
      "execution_count": 72,
      "metadata": {
        "colab": {
          "base_uri": "https://localhost:8080/"
        },
        "id": "b-2XDof4rtP8",
        "outputId": "1e998098-f26e-4df1-fd79-38816a84ee15"
      },
      "outputs": [
        {
          "name": "stdout",
          "output_type": "stream",
          "text": [
            "ACGTCACTCTGCTA\n",
            "H.neandertalensis ACGTCGCTCTGCTA\n",
            "H.sapiens ACGTCACTCTGCTA\n",
            "P.troglodytes ACGTCACTCTCCTA\n",
            "G.gorilla ACGTCCTCCTA\n",
            "H.erectus ACGTCACTCTGCTA\n",
            "dict_keys(['H.neandertalensis', 'H.sapiens', 'P.troglodytes', 'G.gorilla', 'H.erectus'])\n"
          ]
        }
      ],
      "source": [
        "sequences[\"P.troglodytes\"]=\"ACGTCACTCTCCTA\"\n",
        "\n",
        "sequences.update({\"G.gorilla\":\"ACGTCCTCCTA\", \"H.erectus\":\"ACGTCACTCTGCTA\"})\n",
        "\n",
        "print (sequences[\"H.sapiens\"])\n",
        "\n",
        "for key,value in sequences.items():\n",
        "     print (key,value)\n",
        "\n",
        "print(sequences.keys())"
      ]
    },
    {
      "cell_type": "markdown",
      "metadata": {
        "id": "Y98OZYUNvmWD"
      },
      "source": [
        "####**TASK P18.2** <font color= orange>**Complete Rosalind Problem #5  Dictionaries**</font>"
      ]
    },
    {
      "cell_type": "code",
      "execution_count": 79,
      "metadata": {
        "id": "lD3KoTY9wWa7"
      },
      "outputs": [
        {
          "name": "stdout",
          "output_type": "stream",
          "text": [
            "When 1\n",
            "I 2\n",
            "find 1\n",
            "myself 1\n",
            "in 4\n",
            "times 1\n",
            "of 11\n",
            "trouble 1\n",
            "Mother 2\n",
            "Mary 2\n",
            "comes 2\n",
            "to 3\n",
            "me 4\n",
            "Speaking 3\n",
            "words 7\n",
            "wisdom 7\n",
            "let 30\n",
            "it 36\n",
            "be 41\n",
            "And 3\n",
            "my 1\n",
            "hour 1\n",
            "darkness 1\n",
            "she 1\n",
            "is 4\n",
            "standing 1\n",
            "right 1\n",
            "front 1\n",
            "Let 6\n",
            "Whisper 4\n",
            "when 2\n",
            "the 4\n",
            "broken 1\n",
            "hearted 1\n",
            "people 1\n",
            "living 1\n",
            "world 1\n",
            "agree 1\n",
            "There 4\n",
            "will 5\n",
            "an 4\n",
            "answer 4\n",
            "For 1\n",
            "though 1\n",
            "they 2\n",
            "may 1\n",
            "parted 1\n",
            "there 2\n",
            "still 2\n",
            "a 2\n",
            "chance 1\n",
            "that 2\n",
            "see 1\n",
            "night 1\n",
            "cloudy 1\n",
            "light 1\n",
            "shines 1\n",
            "on 1\n",
            "Shine 1\n",
            "until 1\n",
            "tomorrow 1\n",
            "wake 1\n",
            "up 1\n",
            "sound 1\n",
            "music 1\n",
            "yeah 2\n"
          ]
        }
      ],
      "source": [
        "with open(\"../practice_5.txt\",\"r\") as data:\n",
        "\n",
        "  line=data.read()\n",
        "dict1 = {}\n",
        "for word in line.split():\n",
        "    if word in dict1.keys():\n",
        "      dict1[word] = dict1[word]+1\n",
        "    else: \n",
        "       dict1[word] = 1\n",
        "for key,value in dict1.items():\n",
        "     print (key,value)"
      ]
    },
    {
      "cell_type": "markdown",
      "metadata": {
        "id": "1dJdfy4bwVO4"
      },
      "source": [
        "####**<font color=crimson>TASK 18.3 Commit to GitHub**</font>"
      ]
    },
    {
      "cell_type": "markdown",
      "metadata": {
        "id": "28ygQlYJnZoA"
      },
      "source": [
        "#<font color=blue>**P19.**</font> ```count()``` – counting things made easy"
      ]
    },
    {
      "cell_type": "markdown",
      "metadata": {
        "id": "CZ9tBWDmw4D-"
      },
      "source": [
        "####**TASK P19.1** <font color= orange>**Complete Rosalind Problem #6  Counting DNA Nucleotides**</font>"
      ]
    },
    {
      "cell_type": "code",
      "execution_count": 82,
      "metadata": {
        "id": "GlwS14zGxBIC"
      },
      "outputs": [
        {
          "name": "stdout",
          "output_type": "stream",
          "text": [
            "266 230 245 256 \n"
          ]
        }
      ],
      "source": [
        "stringss = \"TAGAACGGTAAATTAGAATCACATCTGAGTTGAAGGAGTGAGAGGATAGACAAGCCATAGAAGGGGAACACAGTATTCTACATCGTAGCCAAGGGCGGGAACCGCTCTGAAGGCTATTGGCGCGATAAGTGGTGGAGAGTCAAAGCGAATCCGGAATAAGGGGCCAAGTACAATTCGCCCGCTGCACAGTAACAATCCTGGAGTTCCCCGTTCATGTTAGACGCATGCTTGAGCTAACATAAAATGGTCAGTCCTAGCAGTACGCCTTTATATGGTGTCAGAAATAAGGCTCGTTCAGGGTGCGCTTCGCCTAGTGTAGTAAGCAATAAACTGAGTATGGATCACTATTTTGATACGTTTCTAATTACACTGTATGCTCAACCTGCTGGTATACTATTTCACTTAGCGGAAGCTGGGCCACTTTTGACCCACTGAACTCGCCAGCTCCGAAACCGAGCTTTAAGGGATTCCTATGGCTAGTTAATGTCAAATCCCGTCCCTCCGATGGCTGATTCAAACAACCGCTCTAGTGATACCTACCGGGAGGCTTAAAGATTGTCTTATTTCCGAAACACCCTTTCATAAAACAGGACGGTGAAAGAATGGGTATTTCAGAGTCGGTCCACGATGAGTCCAACAATTCGTGAGCGCAGCCTCTGTTCTGGCGTGTTACTAGCATTCGCGCATACCTGTTTGTCATGGCTACGTCGCGTGCCACAGATGGTTAGTCTAGACCTCCCTCTCAGGCGGCTGTTATGCCAACTTGGAGCTAATCCTAACAAATAGAATCCGGAGCAGACATCTTCAGTTTACCGTTAGTCTCTAGCTGGAGTAACCAGAGCATACGGGGGAAGGCCTGTATTTATGGCGCCCTCACGCTACGAAATATGTCTATTAGTTGGTCGCCTTCCTTACGCTGGGAACGCAATCGAGTAAATTGAAAGGCAGGAGCAAGCATTCGTCCGGTTGGGCATTCTTTATTCCATGATGCAGTACA\"\n",
        "\n",
        "def counts(string):\n",
        "    print(f'{string.count(\"A\")} {string.count(\"C\")} {string.count(\"G\")} {string.count(\"T\")} ')\n",
        "counts(stringss)"
      ]
    },
    {
      "cell_type": "markdown",
      "metadata": {
        "id": "rj-OWB6Jym5y"
      },
      "source": [
        "####**TASK P19.2** Modify your code for the Rosalind #5 Dictionary problem so that it uses count( ) to count the words."
      ]
    },
    {
      "cell_type": "code",
      "execution_count": 83,
      "metadata": {
        "id": "9H_S6jLnzfxR"
      },
      "outputs": [
        {
          "name": "stdout",
          "output_type": "stream",
          "text": [
            "When 1\n",
            "I 2\n",
            "find 1\n",
            "myself 1\n",
            "in 12\n",
            "times 1\n",
            "of 11\n",
            "trouble 1\n",
            "Mother 2\n",
            "Mary 2\n",
            "comes 2\n",
            "to 4\n",
            "me 7\n",
            "Speaking 3\n",
            "words 7\n",
            "wisdom 7\n",
            "let 30\n",
            "it 36\n",
            "be 41\n",
            "And 3\n",
            "my 2\n",
            "hour 1\n",
            "darkness 1\n",
            "she 1\n",
            "is 15\n",
            "standing 1\n",
            "right 1\n",
            "front 1\n",
            "Let 6\n",
            "Whisper 4\n",
            "when 2\n",
            "the 10\n",
            "broken 1\n",
            "hearted 1\n",
            "people 1\n",
            "living 1\n",
            "world 1\n",
            "agree 1\n",
            "There 4\n",
            "will 5\n",
            "an 10\n",
            "answer 4\n",
            "For 1\n",
            "though 1\n",
            "they 2\n",
            "may 1\n",
            "parted 1\n",
            "there 2\n",
            "still 2\n",
            "a 27\n",
            "chance 1\n",
            "that 2\n",
            "see 1\n",
            "night 1\n",
            "cloudy 1\n",
            "light 1\n",
            "shines 1\n",
            "on 2\n",
            "Shine 1\n",
            "until 1\n",
            "tomorrow 1\n",
            "wake 1\n",
            "up 1\n",
            "sound 1\n",
            "music 1\n",
            "yeah 2\n"
          ]
        }
      ],
      "source": [
        "with open(\"../practice_5.txt\",\"r\") as data:\n",
        "\n",
        "  line=data.read()\n",
        "dict2 = {}\n",
        "for word in line.split():\n",
        "    # if word in dict1.keys():\n",
        "    #   dict1[word] = dict1[word]+1\n",
        "    # else: \n",
        "    #    dict1[word] = 1\n",
        "    dict2[word] = line.count(word)\n",
        "for key,value in dict2.items():\n",
        "     print (key,value)"
      ]
    },
    {
      "cell_type": "markdown",
      "metadata": {
        "id": "RzMon_wAzg7D"
      },
      "source": [
        "####**<font color=crimson>TASK 19.3 Commit to GitHub**</font>\n"
      ]
    },
    {
      "cell_type": "markdown",
      "metadata": {
        "id": "-IB0c2gG0Z1O"
      },
      "source": [
        "#<font color=blue>**P20.**</font> Installing biopython"
      ]
    },
    {
      "cell_type": "code",
      "execution_count": 85,
      "metadata": {
        "colab": {
          "base_uri": "https://localhost:8080/"
        },
        "id": "pinPQdEn0mJM",
        "outputId": "87a0b9ae-2c9d-447f-8eca-d9020b2b713a"
      },
      "outputs": [
        {
          "name": "stdout",
          "output_type": "stream",
          "text": [
            "Requirement already satisfied: pip in /Library/Frameworks/Python.framework/Versions/3.12/lib/python3.12/site-packages (25.0.1)\n",
            "Collecting pip\n",
            "  Downloading pip-25.2-py3-none-any.whl.metadata (4.7 kB)\n",
            "Downloading pip-25.2-py3-none-any.whl (1.8 MB)\n",
            "\u001b[2K   \u001b[90m━━━━━━━━━━━━━━━━━━━━━━━━━━━━━━━━━━━━━━━━\u001b[0m \u001b[32m1.8/1.8 MB\u001b[0m \u001b[31m21.4 MB/s\u001b[0m eta \u001b[36m0:00:00\u001b[0m\n",
            "\u001b[?25hInstalling collected packages: pip\n",
            "  Attempting uninstall: pip\n",
            "    Found existing installation: pip 25.0.1\n",
            "    Uninstalling pip-25.0.1:\n",
            "      Successfully uninstalled pip-25.0.1\n",
            "Successfully installed pip-25.2\n",
            "Requirement already satisfied: biopython in /Library/Frameworks/Python.framework/Versions/3.12/lib/python3.12/site-packages (1.85)\n",
            "Requirement already satisfied: numpy in /Library/Frameworks/Python.framework/Versions/3.12/lib/python3.12/site-packages (from biopython) (1.26.4)\n"
          ]
        }
      ],
      "source": [
        "!pip install --upgrade pip\n",
        "!pip install biopython"
      ]
    },
    {
      "cell_type": "code",
      "execution_count": 86,
      "metadata": {
        "colab": {
          "base_uri": "https://localhost:8080/"
        },
        "id": "5ccd6f0b",
        "outputId": "e0650d46-1501-47ef-e6c0-98c374646574"
      },
      "outputs": [
        {
          "name": "stdout",
          "output_type": "stream",
          "text": [
            "Biopython is installed correctly.\n"
          ]
        }
      ],
      "source": [
        "try:\n",
        "  from Bio.Seq import Seq\n",
        "  print(\"Biopython is installed correctly.\")\n",
        "except ImportError:\n",
        "  print(\"Biopython is not installed or there was an import error.\")"
      ]
    },
    {
      "cell_type": "markdown",
      "metadata": {
        "id": "IGX-ThdQ3RuA"
      },
      "source": [
        "#<font color=blue>**P21.**</font> Seq( ) – a function to define sequence objects"
      ]
    },
    {
      "cell_type": "code",
      "execution_count": 89,
      "metadata": {
        "id": "ltZBr8mE4OhM"
      },
      "outputs": [
        {
          "data": {
            "text/plain": [
              "Seq('GAUGGAACUUGACUACGUAAAUU')"
            ]
          },
          "execution_count": 89,
          "metadata": {},
          "output_type": "execute_result"
        }
      ],
      "source": [
        "from Bio.Seq import Seq,SeqUtils\n",
        "\n",
        "my_sequence = Seq(\"GATGGAACTTGACTACGTAAATT\")\n"
      ]
    },
    {
      "cell_type": "markdown",
      "metadata": {
        "id": "UXCuEFxg6Jxx"
      },
      "source": [
        "####**TASK BP21.2** <font color=orange> **Complete Rosalind #7 Transcribing DNA into RNA**</font>"
      ]
    },
    {
      "cell_type": "code",
      "execution_count": 122,
      "metadata": {
        "id": "UXt6gWLM6qde"
      },
      "outputs": [
        {
          "name": "stdout",
          "output_type": "stream",
          "text": [
            "CGCCCCAAGUCGUAGCGCAGUAUCCUGUAGGAGCCUCUGCAUAUAGCCGGGGUUUUCUCUUAGGCCGGCAUUGACAUGUGGCCUAGGCUGAGAGGCGGGAAGGUACGAGACGUCCUUUAGUGGAAUCUUUCGCGUCCUCUUACACUUGUAUGAGGCGAUAUCAGCAGUCACUCCAAACAUGGGGAUUAAGCUCUUGUCCGGAUUCCCUAUUGACCAAGAAGGUAUAUCUUAUCGGAGAACGUAACCAGGUUUAUAGAUGGCCUUGAGUUAGGGCUUUGACAGCGAAACGUUACUGAAUUAGCGACUGUAUAUAGCAGCAGACCACAUCGUUGUGUACGUGGUGGUCAUACUCGCCGCGCUCAACGAUCCAGCGAAACCACCUUGUCCGAUUGACGUUGCAAGGCAUGGUGACGUCUUCAUGUACACGGACACGCCCGAGUUCCCUAGGGACCUCACCGAAUCGUAGUGGAGUAAAGGCGUAAUACAAGUGCCCGAGGCGGCACAACGCAGGCGACGAGAUUGUCUGGCCCCCGUAUAGAUACGAGUUGCGGUCUAGGGUGGCUCUUGCCAGGAUUCUAUAUUUGUCCUCGGAGAGAAUCGUCGGACCAUCCCACGCGAAUGACCCUUUAUAACCUGGUGGAAUCAGUACUUAAGGUCUUAGGACAAAACGGGACGUCUCUAGCCUACUGCUUCCUUUGACAGUCCGAGCAGACAUUCUGGUAGUUCGGGUGGUUACCAGGUGGAGAGUGAUAGCCAUGUAACUCAGCAUUACUUGACUAGUCCAGACUGGGUCCAGCUUUCGGGCAUACGAUCAGAUUAUUCGUAUGCCAUCCACGAGUCCCUAUAAACUGCCGGAGCCACGCCAUAGGGUAGGAGAACUCUGACUGACUAGAGCAAGACCCCUCUCCGCGUAGUACGGCUAGCAUACGCACUUAACAUUCUUGUAUA\n"
          ]
        }
      ],
      "source": [
        "my_sequence1 = Seq(\"CGCCCCAAGTCGTAGCGCAGTATCCTGTAGGAGCCTCTGCATATAGCCGGGGTTTTCTCTTAGGCCGGCATTGACATGTGGCCTAGGCTGAGAGGCGGGAAGGTACGAGACGTCCTTTAGTGGAATCTTTCGCGTCCTCTTACACTTGTATGAGGCGATATCAGCAGTCACTCCAAACATGGGGATTAAGCTCTTGTCCGGATTCCCTATTGACCAAGAAGGTATATCTTATCGGAGAACGTAACCAGGTTTATAGATGGCCTTGAGTTAGGGCTTTGACAGCGAAACGTTACTGAATTAGCGACTGTATATAGCAGCAGACCACATCGTTGTGTACGTGGTGGTCATACTCGCCGCGCTCAACGATCCAGCGAAACCACCTTGTCCGATTGACGTTGCAAGGCATGGTGACGTCTTCATGTACACGGACACGCCCGAGTTCCCTAGGGACCTCACCGAATCGTAGTGGAGTAAAGGCGTAATACAAGTGCCCGAGGCGGCACAACGCAGGCGACGAGATTGTCTGGCCCCCGTATAGATACGAGTTGCGGTCTAGGGTGGCTCTTGCCAGGATTCTATATTTGTCCTCGGAGAGAATCGTCGGACCATCCCACGCGAATGACCCTTTATAACCTGGTGGAATCAGTACTTAAGGTCTTAGGACAAAACGGGACGTCTCTAGCCTACTGCTTCCTTTGACAGTCCGAGCAGACATTCTGGTAGTTCGGGTGGTTACCAGGTGGAGAGTGATAGCCATGTAACTCAGCATTACTTGACTAGTCCAGACTGGGTCCAGCTTTCGGGCATACGATCAGATTATTCGTATGCCATCCACGAGTCCCTATAAACTGCCGGAGCCACGCCATAGGGTAGGAGAACTCTGACTGACTAGAGCAAGACCCCTCTCCGCGTAGTACGGCTAGCATACGCACTTAACATTCTTGTATA\")\n",
        "# print(my_sequence1.transcribe()) for checking\n",
        "ar = list(my_sequence1)\n",
        "for i in range(len(my_sequence1)):\n",
        "    if my_sequence1[i] != 'T':\n",
        "        ar[i] = my_sequence1[i]\n",
        "    elif my_sequence1[i] == 'T':\n",
        "        ar[i] = 'U'\n",
        "print(\"\".join(ar))"
      ]
    },
    {
      "cell_type": "markdown",
      "metadata": {
        "id": "9P4_MaXp6O3n"
      },
      "source": [
        "####**TASK BP21.2** <font color=orange> **Complete Rosalind #8  Translating RNA into Protein**</font>"
      ]
    },
    {
      "cell_type": "code",
      "execution_count": 131,
      "metadata": {
        "id": "5Rzzfzij6q2P"
      },
      "outputs": [
        {
          "name": "stdout",
          "output_type": "stream",
          "text": [
            "MEAVVWGRVSRPMCRLNVDWKSTCGRPGVTRLAVLAQGPVGLYSCIVESISALTIPYNLNAVNRHRPGHDRGFSHLPHRQPPEGLLPSDGAQHTRTKTGDTPTIYGPPPARKVVGSWGPCQRLQPGSGYSGVTEALEYPPGKCCSRNLKFIVHPIIELVTTLGDGLSVTSQLPTMNSAGNSLGANMRLGDGRQATGNYGLVADEVRVPHSNGVVVCRWGFNTNEHCQLTQRRHCEVERNWDYQTILVTCNEAALSVWYCPIGVRYKRTNAPVSRKVPLHEAPSKNVSSYQHWYSSLLRGTTAFQKETRLKGPAVWTMSPDYAATHKLAHACAIGIRTKYGAMLRSARGGDVPLVTTYEKSGGLVVTASAKMNAVCLTQRQPSPYHHFEREFRVSRSLMESYPCAPSAQQGNPGLTNTAKLADSLGVESQTLARIIRYWVFFSTPFPIPNNLLVYCNQLASDTLPLCLVPNCIVWPFGDEWSVDWVAAITGAASGEGSVMGVERQGLTRDTTINTAIEGNLGHFLRRQYPKRAAVATLRPPPPSIVSKDGRLYFVMGVLTAFKAPQSPRKTPDRLLLIGLYQRDYPRVFGSSRWIGSQAVKLERILSSVRISSIQAEVYRHRQHSDHLDPSVNFRENATDRGDPYSTAPYSLKGVFLLGKVFDIVYFTHEHIIKGSLHGFNAYFRKGFEAPARYTRSRRAADDDDRANTGGLHIKYGPLVPRWGETIHMLPYSVEGFALDEKIRHALEVRSVTFRGHPLERRRSTLNDTPAVTHPTLSTVAQTTRKEHETTRSTVQRFQLNCRRLPSSVELHYERRRRLTWSNSVAFVSRTKKYQRALWLNSLHAAENEPSSDQGLVLIPRPSNLALKGVESADATPCFLSVTITDIVLRKLKASDQFAYCRSRGQSRQFSAVMPPATLHAPASSSVRHIPAKMATVHVHAMPFPHVPRGVGVPRGIFQRTRRPGRDEPRNLVCCIQSAGTPIYIDSRTLHRDKIPREELLWHEHWIAECVLPSCNTTISVRKRMSRMLRRTSLCFGPRFVNNYSSWFEVKEWEAALVCIYYIMCYSVQVDDTKRSSVGNVPRTASASAPIGQSSFALSAACKGLSIKVPLETATASPSGPRSAPSVRDSYPPRQGRTQSGDLERNEMDLSFLFLPLRLVRHQLINGFCHSTPTCASYIKNREIQNRFSCSASPSIGDFMNISRHKNCKDAVSDDPAVPWLARRNLDFVMSSGARYVASDRAHIWRSCDQLTCVRFLPVMGTYWNLPSRVPPDSLIDQERRKFKMYVLDAVQHRASIVTFLSLFLLYARSWDVAVLAIIHGGHYKSPMFCHLTKYASVELAHPTRRTRRDVCDLRSTRMTGKALSRRLQTFGTASRLVSTRLYSIRSACAARKFVRCYQPRALTGLGRVLWCVQTNLIRLSYDDRRACPRLSGGFERYAITGNTRNGLQAGSTIPAQPDAVAYVYNLWPVRFSYPFKLDDKQPSGPVPVLLPVPDPRSLRLVSEMLPLRCVSFSSTGDLTVIVHLFHNSYGSLVRWYHFQAAMRQQTGGPSRHLAVLGVRPLVIVSVFPQTPANSNSLRVGHERAYHRDSVEPTLKGCAWSQWVRPEEKGTQRLSAQRRSREGLLSQPRKSRNGITRLPTRSKIVAQRPLNSGLRVFLGLARVVCRPTLLPQDFSKAKRIPSRLCGSCICFALPFENADNEISQSVEISPSCTSWNGSDSHVHFEFAKMSTTFNMERASLQLSYDHLGDLVESEPLKVGRVPLGPEARSRRRAAANWARLCPSIYGEWSSLSLSPTGRLQGDWGDEFGRSPKTIATMTTLNYGHRTGLLRLAAIAVGSHLFYTSSAPTSGPDDPVLSERSSTLARSRSTASNDMFGFLNKGTELAFRLPGFTQLSVPIKAWKLITSGCVNDLGPRCYWNCRGERSNETDWRVDFNPGLKAIRPPEPVSSCSIKIIHSLRICTRRICNGGPIYVHGCCTHSYKFVCAVRARKPSSVWRPLCPTPATLSTRAIECRSYVMPESRFSSNASASRDVHCSKQSIHTMDVNQSLLYSLTKSYNVIVERQYGLPGDRVHALRMTFDQAGPPDKSHIQNLSRTTHCYYHRLSREYVASSVGRAVKLLLPRSFRLSTPIDSCLKLRDLFSSEWLSLDPMPYTSNTLGRKSAFGSKFDSRRSTQESNINAWGECGKGVADASRVQCLFQLDETVNMSRPILDYQQDKPVGRKSRGMLLDARLSYPASENDPPGIVSVICWRQNWCYLIPGRMQPASVLGTRLRFRDSHHISKNMPLCGRYTDRLPRESCSCISNPNMARTTPDSEKLSMRCSGKSGVRATTMSQSELFSSFLWLLDPHGPTPLKHIDGKLDWTKDTVKIRHLVWSSCEVCNWRSVLTSSPNIIAAPSGTHRVFTLAQMRSISSSMYLVLTSVPRYVALREFPPSRVVCCIRRCGRPIHASLRDVARDTIACPLLSPSHPVHQTGLRQKLNHLWQSCRFIMSLLLMLLRHHRIIDLCWACLGLSSYPYIPKVSYLYWRFRSRFIKGAAVNISAPRNSISGETLSLLFNESACTTTNINVMAKASVAQVVDMTLYTSIQRRYDFLSLTSGRRNRGNQGLLQDACADFHSDSEAIERLDARGSALARCYERTPTVTSVGYISDNKFDTLILPSKGPDSKRELNATRSLAVGGNCTVHARIRFRYSELRYSPLDLKRLSETSSPQCLRLLRPQIGQVLAHGHHNRRPCSLCTVIRFLAVHFGLAITYFTPHENAIYRERHFLTPNRNSSLPFRERPTSTVSGRVFELHVAVETGSVSFKDRVVRNTQALAFYKAQFRLVRLLDELGHGFFHLREPNVLTEQDQLSQ\n"
          ]
        }
      ],
      "source": [
        "myseq3 = Seq(\"AUGGAAGCAGUUGUCUGGGGGCGCGUGAGUCGUCCCAUGUGCCGAUUGAACGUAGACUGGAAGAGUACCUGUGGUAGACCGGGUGUUACUCGUCUCGCAGUACUGGCUCAAGGACCGGUGGGCCUGUACUCAUGUAUUGUAGAGUCCAUUUCGGCUCUCACGAUUCCAUAUAACCUUAACGCCGUAAACCGACACCGACCAGGACAUGACCGGGGUUUUUCGCAUCUUCCGCACCGGCAGCCACCUGAAGGUCUAUUGCCGUCUGACGGGGCACAGCACACGCGAACGAAGACUGGUGAUACCCCCACGAUCUACGGUCCUCCCCCCGCGCGAAAAGUAGUAGGUAGCUGGGGUCCGUGCCAGCGGCUGCAGCCGGGCAGCGGUUAUUCUGGCGUGACUGAGGCGCUCGAGUAUCCUCCUGGAAAAUGCUGUUCGCGCAAUCUGAAAUUCAUUGUGCAUCCAAUCAUUGAACUCGUCACGACUCUUGGCGAUGGAUUAUCGGUCACUUCCCAACUACCGACAAUGAAUUCGGCAGGUAAUUCGCUUGGUGCUAAUAUGAGGCUCGGUGAUGGUAGACAGGCAACAGGAAAUUACGGCCUGGUGGCCGACGAAGUCAGAGUCCCCCACUCCAACGGUGUAGUGGUCUGUCGGUGGGGGUUCAAUACUAAUGAACAUUGUCAACUGACUCAACGUAGGCACUGUGAGGUUGAAAGAAACUGGGAUUAUCAAACGAUACUAGUCACCUGCAAUGAAGCCGCCUUGAGCGUCUGGUAUUGCCCUAUUGGAGUCCGUUAUAAAAGAACUAAUGCGCCAGUCUCCCGGAAGGUACCUCUUCAUGAAGCACCGUCAAAAAAUGUGUCUUCUUACCAACAUUGGUACAGUUCACUAUUACGUGGCACCACUGCCUUCCAAAAGGAGACCCGCCUCAAGGGACCAGCUGUGUGGACGAUGUCCCCAGAUUAUGCUGCGACGCAUAAACUAGCUCACGCCUGCGCGAUAGGGAUCCGUACAAAGUACGGCGCGAUGUUGCGAAGUGCUAGGGGCGGCGAUGUGCCACUCGUUACCACUUACGAGAAGUCGGGUGGGCUAGUCGUUACCGCAAGUGCAAAGAUGAAUGCCGUUUGCCUGACCCAACGUCAGCCUUCUCCUUACCACCAUUUCGAGCGAGAGUUUCGUGUGUCUAGGAGCUUGAUGGAGAGUUACCCCUGCGCUCCUUCAGCUCAGCAGGGCAACCCUGGCCUCACAAACACGGCCAAGCUUGCCGAUUCUUUAGGAGUCGAAUCGCAAACGCUCGCGCGUAUCAUCAGGUACUGGGUGUUUUUCUCCACGCCCUUUCCAAUCCCAAACAAUCUGCUAGUCUACUGCAAUCAACUAGCAUCCGAUACGCUUCCCUUGUGUCUCGUUCCCAAUUGCAUUGUGUGGCCUUUUGGUGAUGAAUGGAGCGUUGACUGGGUAGCUGCAAUUACCGGAGCUGCUAGUGGCGAAGGGAGCGUAAUGGGCGUGGAGCGCCAGGGGCUCACUCGGGACACCACGAUUAACACAGCGAUCGAAGGCAACCUCGGCCACUUUCUCCGCCGACAAUACCCAAAGCGAGCAGCCGUCGCGACCUUACGUCCUCCCCCGCCAUCAAUAGUCUCGAAAGAUGGACGCUUAUACUUCGUUAUGGGAGUAUUAACUGCGUUCAAAGCUCCGCAAUCACCCAGAAAGACUCCGGACAGGCUACUUCUGAUCGGCCUCUACCAACGGGACUAUCCCAGGGUAUUCGGGUCAUCUCGCUGGAUUGGAUCUCAAGCGGUAAAGCUUGAACGUAUCCUCUCGUCCGUUCGAAUAUCGUCUAUCCAAGCCGAGGUUUACCGACAUAGGCAGCACUCAGAUCAUUUAGACCCCUCCGUGAAUUUUAGGGAGAACGCCACCGAUAGAGGCGACCCUUACUCAACCGCUCCAUACUCACUGAAAGGUGUGUUCCUCCUCGGAAAGGUCUUUGACAUAGUCUAUUUCACCCACGAACACAUCAUCAAGGGGAGUCUCCACGGAUUCAACGCAUAUUUUCGCAAAGGAUUCGAAGCGCCCGCUCGUUAUACACGGUCGCGCCGAGCCGCAGAUGAUGAUGAUAGAGCUAACACCGGCGGCCUUCAUAUUAAAUAUGGCCCUCUGGUGCCCAGAUGGGGGGAGACGAUUCAUAUGCUCCCAUACAGUGUCGAAGGCUUCGCAUUGGAUGAAAAGAUCCGGCACGCGUUAGAGGUUAGAAGCGUGACUUUCAGGGGCCACCCGUUGGAGCGCCGUAGGAGUACGUUGAAUGACACACCCGCGGUCACUCACCCGACCCUGUCGACAGUGGCCCAGACUACGAGGAAAGAACAUGAAACCACUCGGUCCACCGUACAAAGGUUUCAGUUGAACUGUCGACGUCUCCCAAGCUCGGUAGAAUUACAUUACGAGCGAAGACGGCGCCUGACGUGGUCGAAUUCAGUCGCGUUCGUCUCGAGAACUAAGAAGUAUCAGCGUGCUCUGUGGUUGAAUAGCCUACAUGCAGCAGAAAACGAGCCGUCCUCAGACCAGGGGUUAGUCCUGAUACCGAGGCCUUCGAACCUUGCCUUGAAAGGAGUUGAAUCCGCAGACGCCACUCCUUGUUUUCUCAGCGUCACUAUCACCGAUAUCGUCCUACGUAAGUUGAAAGCGUCGGACCAGUUCGCAUACUGUAGGAGUAGAGGACAGAGUCGCCAGUUCUCGGCUGUGAUGCCACCGGCGACCCUCCAUGCGCCGGCUAGUUCCUCGGUUAGGCACAUUCCUGCGAAAAUGGCUACCGUGCACGUCCACGCUAUGCCCUUUCCCCACGUACCCCGCGGCGUGGGUGUUCCCCGGGGGAUUUUUCAACGGACUAGGCGUCCCGGGCGUGAUGAACCGCGAAAUCUGGUGUGUUGUAUACAGUCAGCUGGGACGCCCAUCUACAUUGACUCAAGGACCUUACAUAGGGAUAAGAUUCCGCGAGAGGAACUUUUGUGGCAUGAACAUUGGAUUGCAGAGUGUGUCCUCCCGAGUUGCAACACGACAAUCUCAGUAAGAAAGCGUAUGAGCAGGAUGUUGCGGAGAACCAGCCUCUGCUUCGGCCCCAGGUUUGUAAACAAUUACUCAAGCUGGUUCGAAGUUAAGGAGUGGGAAGCAGCGUUGGUUUGCAUCUACUAUAUAAUGUGUUAUAGCGUUCAAGUUGACGACACUAAACGGAGCAGUGUCGGAAAUGUUCCACGCACUGCAAGCGCUUCGGCGCCUAUAGGACAGUCGUCGUUUGCCCUGAGUGCGGCCUGCAAAGGCCUCAGCAUAAAGGUUCCUCUUGAAACGGCUACAGCUUCACCUUCGGGGCCCAGGUCAGCCCCAAGCGUAAGAGAUUCGUAUCCGCCACGACAAGGACGAACGCAGUCUGGCGACUUAGAGCGAAAUGAAAUGGAUUUGAGUUUUUUGUUUCUACCCUUAAGACUCGUACGACAUCAGCUUAUAAACGGGUUUUGCCAUUCGACUCCGACGUGUGCAUCGUAUAUCAAAAAUCGAGAGAUCCAAAAUCGUUUCUCGUGUUCCGCAUCACCAUCAAUAGGGGAUUUUAUGAACAUUUCAAGACACAAAAACUGUAAAGACGCCGUUAGUGACGACCCAGCUGUACCUUGGCUCGCGCGCCGGAAUCUAGACUUUGUAAUGUCCUCGGGUGCGAGGUAUGUCGCAAGUGACCGUGCUCAUAUCUGGAGGAGUUGCGAUCAAUUGACGUGCGUUCGGUUCCUACCUGUGAUGGGGACGUACUGGAACCUCCCUAGUAGAGUACCCCCAGAUUCUUUAAUAGACCAGGAACGGAGAAAAUUUAAAAUGUACGUUCUGGACGCUGUCCAGCACAGGGCGUCGAUUGUGACGUUCUUAUCCCUUUUCUUGCUGUAUGCUCGUAGCUGGGAUGUAGCCGUGCUAGCUAUCAUUCACGGGGGCCAUUACAAGUCUCCGAUGUUCUGUCACCUCACCAAAUACGCUUCCGUAGAGUUGGCCCACCCCACCCGGCGGACGCGACGCGAUGUAUGUGAUCUACGGUCAACUAGAAUGACAGGGAAGGCAUUGUCUAGACGCCUACAAACAUUUGGCACAGCUUCUCGUCUAGUGUCGACCAGACUUUAUUCGAUUCGUUCUGCGUGCGCCGCCAGGAAGUUCGUGCGUUGUUAUCAGCCUCGUGCUUUGACUGGACUGGGACGCGUAUUAUGGUGUGUGCAAACAAAUCUAAUUCGGCUCUCUUACGACGACCGACGCGCUUGUCCAAGGCUUUCUGGAGGCUUCGAACGGUAUGCUAUAACGGGCAACACCCGAAAUGGGCUGCAGGCGGGUAGUACCAUACCGGCUCAGCCCGAUGCAGUGGCUUAUGUUUAUAACCUUUGGCCAGUUCGCUUCAGUUACCCGUUCAAACUAGAUGACAAGCAGCCAUCCGGGCCAGUACCCGUUUUGCUGCCGGUCCCCGACCCUCGCUCCCUGAGAUUAGUAAGCGAAAUGCUCCCCCUUAGGUGUGUCUCAUUUUCUAGCACUGGGGACCUCACCGUCAUAGUACAUCUGUUCCAUAACAGUUAUGGGUCCCUGGUUCGCUGGUAUCAUUUUCAAGCGGCGAUGAGACAACAAACAGGGGGUCCCAGCCGACAUCUCGCCGUGCUAGGGGUACGUCCGCUUGUAAUAGUCAGUGUGUUUCCGCAAACCCCCGCAAACUCUAAUAGCCUUAGGGUAGGUCAUGAGCGGGCUUACCAUCGUGAUAGUGUGGAGCCGACCCUCAAAGGGUGCGCAUGGUCCCAAUGGGUACGGCCGGAAGAGAAGGGGACGCAGCGGCUAUCCGCGCAAAGACGUAGUCGCGAGGGUCUCCUUUCUCAGCCGAGGAAAUCCAGGAAUGGCAUUACCAGGCUGCCUACACGUUCUAAGAUCGUUGCCCAACGACCCUUAAACUCUGGCCUACGCGUAUUCCUCGGUCUGGCGCGAGUCGUUUGCCGCCCCACACUAUUACCUCAGGACUUUUCGAAGGCCAAGCGCAUACCCUCCCGUCUCUGUGGGAGUUGUAUCUGUUUUGCCCUUCCAUUUGAAAAUGCGGACAAUGAAAUUUCUCAGUCUGUGGAGAUUUCUCCUUCAUGCACUUCUUGGAAUGGGUCCGACUCACACGUUCAUUUCGAGUUUGCGAAAAUGUCAACUACGUUUAACAUGGAGCGCGCAUCAUUGCAAUUGUCUUACGAUCAUCUUGGGGACUUGGUUGAGAGUGAACCACUUAAGGUCGGUCGCGUUCCUUUAGGGCCAGAGGCCCGAUCUAGACGACGGGCAGCGGCGAAUUGGGCACGCCUUUGCCCAUCCAUAUAUGGGGAGUGGUCGUCGCUAAGCCUUUCACCUACUGGGCGACUACAGGGGGAUUGGGGAGAUGAAUUCGGUCGUAGUCCGAAGACCAUCGCCACGAUGACGACGCUUAACUACGGGCACAGGACUGGAUUGCUGAGGCUAGCCGCUAUAGCAGUCGGCUCCCAUCUAUUUUACACUUCCUCAGCCCCCACCAGUGGUCCCGACGAUCCCGUGUUGUCGGAAAGAUCUUCCACGUUAGCUCGCUCUCGCUCCACGGCUAGCAACGAUAUGUUCGGUUUCUUGAACAAAGGUACAGAGCUAGCGUUUCGGCUUCCCGGGUUCACACAACUUAGCGUUCCGAUCAAAGCAUGGAAACUUAUUACAUCAGGAUGUGUUAAUGAUCUAGGCCCGAGAUGUUACUGGAACUGCAGAGGUGAGAGAUCUAACGAAACCGAUUGGCGAGUCGAUUUUAAUCCGGGGCUGAAGGCUAUUCGCCCUCCCGAGCCCGUUUCGUCAUGCUCUAUUAAGAUCAUUCACUCCUUACGAAUUUGCACACGUCGAAUCUGCAACGGCGGGCCAAUAUAUGUCCAUGGAUGUUGCACUCACAGUUAUAAGUUUGUCUGUGCUGUUCGGGCUCGGAAACCUUCUUCAGUCUGGAGGCCCCUGUGCCCUACUCCCGCAACACUGUCUACGAGAGCUAUAGAGUGCCGGAGUUAUGUGAUGCCCGAGUCCCGCUUUUCCUCGAACGCCAGCGCUAGUAGAGACGUACAUUGCUCAAAGCAAUCUAUCCACACUAUGGACGUUAAUCAAUCUCUGCUCUAUAGUCUCACUAAGAGUUAUAACGUUAUCGUAGAGCGGCAAUAUGGUUUGCCCGGGGAUCGGGUACAUGCUCUUAGAAUGACAUUCGAUCAAGCGGGCCCUCCGGAUAAAUCACACAUUCAAAACUUGAGUCGAACCACGCACUGUUACUAUCACAGGCUCUCUCGAGAGUAUGUGGCUUCGUCGGUCGGAAGAGCUGUGAAAUUGUUACUACCCCGAUCAUUUCGACUAUCUACCCCAAUAGAUUCAUGUCUUAAGCUAAGAGAUCUGUUUUCUAGCGAGUGGUUAUCAUUAGACCCCAUGCCGUACACGAGCAACACCCUAGGUCGUAAAUCAGCAUUUGGAUCCAAAUUCGAUUCACGUAGGUCUACGCAGGAGUCAAAUAUUAAUGCCUGGGGAGAAUGUGGAAAGGGGGUGGCGGACGCCUCAAGGGUUCAAUGUCUCUUCCAGCUCGACGAGACUGUUAAUAUGUCCAGACCGAUUCUGGAUUAUCAGCAGGAUAAACCAGUCGGCCGGAAGUCACGGGGCAUGUUGCUAGACGCUCGACUUAGUUAUCCGGCAUCAGAAAAUGAUCCGCCGGGGAUAGUAAGUGUAAUAUGCUGGCGGCAAAACUGGUGUUACUUAAUCCCUGGGCGAAUGCAGCCCGCGUCCGUGUUGGGGACCCGUCUGAGGUUCCGAGACUCCCAUCACAUAAGUAAGAAUAUGCCACUAUGCGGACGCUAUACGGAUAGAUUACCACGUGAAAGUUGUUCGUGUAUCAGUAACCCUAAUAUGGCGCGGACAACGCCCGACAGCGAAAAGUUAAGCAUGAGGUGCAGUGGUAAGAGCGGAGUUAGAGCGACUACAAUGUCUCAGUCAGAGCUUUUCUCCUCUUUUCUCUGGCUCUUGGAUCCACACGGCCCCACACCGCUGAAGCAUAUCGACGGUAAGUUAGAUUGGACGAAGGAUACAGUUAAAAUUCGCCAUUUAGUGUGGAGCAGUUGUGAGGUUUGCAACUGGCGGUCAGUCCUAACUUCAAGUCCAAAUAUAAUAGCUGCUCCAUCAGGAACGCACCGUGUGUUUACUCUGGCACAAAUGCGGUCAAUUUCUAGCAGCAUGUAUUUGGUACUCACCUCAGUGCCUCGGUACGUGGCCUUACGAGAGUUCCCCCCCUCACGUGUCGUCUGUUGUAUCCGCAGGUGUGGUCGGCCUAUACACGCCUCGCUGCGAGACGUGGCCCGGGACACCAUUGCCUGUCCUCUACUGUCACCCUCCCACCCUGUGCAUCAGACGGGUCUACGACAAAAACUAAACCAUUUGUGGCAAUCUUGUCGCUUUAUAAUGAGCCUGCUCCUAAUGCUCCUCCGGCACCAUAGGAUCAUCGAUUUAUGUUGGGCGUGUCUAGGCCUAUCAUCCUAUCCUUAUAUCCCGAAGGUGUCGUAUCUUUACUGGCGCUUCAGAUCUCGAUUUAUUAAGGGGGCAGCGGUCAAUAUUAGCGCGCCGCGUAACUCCAUAUCGGGGGAAACUCUGUCGCUACUUUUCAACGAAAGUGCGUGCACAACUACGAACAUAAAUGUAAUGGCGAAGGCGAGUGUAGCUCAGGUGGUGGACAUGACGCUCUACACGUCGAUUCAGCGGCGGUAUGAUUUCCUUAGUUUAACAUCAGGUCGCCGAAACAGAGGAAACCAGGGCCUGCUGCAAGAUGCUUGUGCCGACUUUCAUUCUGAUUCGGAAGCUAUUGAACGGUUGGACGCUCGGGGUAGCGCACUGGCCCGCUGUUAUGAACGUACCCCUACAGUUACUUCGGUCGGUUACAUUUCUGACAAUAAGUUUGAUACUCUUAUACUGCCCAGUAAAGGUCCGGACUCUAAACGAGAAUUAAAUGCGACUAGGAGCUUAGCGGUAGGCGGGAACUGCACAGUACAUGCGCGCAUACGCUUCCGGUAUAGCGAACUUAGGUAUUCACCCCUCGACCUCAAAAGACUGAGUGAGACCUCGUCCCCCCAAUGUCUGCGGCUACUGCGGCCGCAGAUUGGGCAGGUAUUAGCACAUGGGCACCACAACAGGCGCCCUUGCUCAUUGUGUACAGUCAUCCGUUUCCUCGCUGUUCACUUUGGCCUCGCCAUAACCUACUUCACCCCACAUGAGAAUGCAAUAUACAGAGAGCGGCACUUCUUAACGCCGAACCGUAAUAGUUCUCUGCCAUUCAGGGAACGUCCAACUUCCACAGUCUCAGGCAGGGUGUUUGAGCUGCACGUUGCCGUAGAAACAGGUUCCGUGUCCUUCAAAGAUAGGGUUGUCAGAAAUACUCAGGCGCUCGCUUUCUACAAGGCGCAGUUCAGAUUAGUUCGUUUACUCGAUGAGCUCGGACACGGAUUUUUUCACCUUAGAGAACCGAAUGUCCUAACAGAGCAGGAUCAACUAAGCCAGUGA\")\n",
        "\n",
        "print(myseq3.translate(to_stop=True))\n"
      ]
    },
    {
      "cell_type": "markdown",
      "metadata": {
        "id": "dvtR4N7L6sZ_"
      },
      "source": [
        "####**<font color=crimson>TASK 21.3 Commit to GitHub**</font>"
      ]
    },
    {
      "cell_type": "markdown",
      "metadata": {
        "id": "bDJqtRiX3fEG"
      },
      "source": [
        "#<font color=blue>**P22.**</font> SeqIO – a function to parse( ) sequence files"
      ]
    },
    {
      "cell_type": "markdown",
      "metadata": {
        "id": "VKyMhLjx7nIo"
      },
      "source": [
        "####**TASK BP 22.1** Read in the practice dataset from Rosalind #9 and print the id of each sequence in the file."
      ]
    },
    {
      "cell_type": "code",
      "execution_count": 140,
      "metadata": {
        "colab": {
          "base_uri": "https://localhost:8080/"
        },
        "id": "xUi3JEoh7yJ6",
        "outputId": "0268cd9f-2c8c-4763-d3bd-02d54c9b0afd"
      },
      "outputs": [
        {
          "name": "stdout",
          "output_type": "stream",
          "text": [
            "Rosalind_6404\n",
            "Rosalind_5959\n",
            "Rosalind_0808\n"
          ]
        }
      ],
      "source": [
        "from Bio.SeqIO import parse\n",
        "\n",
        "for seq_record in parse(\"../practice_9.txt\", \"fasta\"):\n",
        "    print (seq_record.id)\n",
        "    # print (seq_record.seq)\n",
        "    # print (len(seq_record.seq))\n",
        "    # print (seq_record)"
      ]
    },
    {
      "cell_type": "markdown",
      "metadata": {
        "id": "SAjUYBpe3pwi"
      },
      "source": [
        "#<font color=blue>**P23.**</font> SeqUtils.gc_fraction( ) – a function to compute GC content"
      ]
    },
    {
      "cell_type": "code",
      "execution_count": 150,
      "metadata": {},
      "outputs": [
        {
          "name": "stdout",
          "output_type": "stream",
          "text": [
            "34.78260869565217\n"
          ]
        }
      ],
      "source": [
        "from Bio.SeqUtils import gc_fraction\n",
        "my_seq=Seq('GATGGAACTTGACTACGTAAATT')\n",
        "print(gc_fraction(my_seq)*100)"
      ]
    },
    {
      "cell_type": "markdown",
      "metadata": {
        "id": "kEjUu8HfHniC"
      },
      "source": [
        "####**TASK P23.1** Modify the script from TASK P22.1 so that it prints the GC content for each sequence in the file"
      ]
    },
    {
      "cell_type": "code",
      "execution_count": 155,
      "metadata": {},
      "outputs": [
        {
          "name": "stdout",
          "output_type": "stream",
          "text": [
            "Rosalind_6404\n",
            "CCTGCGGAAGATCGGCACTAGAATAGCCAGAACCGTTTCTCTGAGGCTTCCGGCCTTCCCTCCCACTAATAATTCTGAGG\n",
            "80\n",
            "ID: Rosalind_6404\n",
            "Name: Rosalind_6404\n",
            "Description: Rosalind_6404\n",
            "Number of features: 0\n",
            "Seq('CCTGCGGAAGATCGGCACTAGAATAGCCAGAACCGTTTCTCTGAGGCTTCCGGC...AGG')\n",
            "GC content 53.75\n",
            "--------------------\n",
            "Rosalind_5959\n",
            "CCATCGGTAGCGCATCCTTAGTCCAATTAAGTCCCTATCCAGGCGCTCCGCCGAAGGTCTATATCCATTTGTCAGCAGACACGC\n",
            "84\n",
            "ID: Rosalind_5959\n",
            "Name: Rosalind_5959\n",
            "Description: Rosalind_5959\n",
            "Number of features: 0\n",
            "Seq('CCATCGGTAGCGCATCCTTAGTCCAATTAAGTCCCTATCCAGGCGCTCCGCCGA...CGC')\n",
            "GC content 53.57142857142857\n",
            "--------------------\n",
            "Rosalind_0808\n",
            "CCACCCTCGTGGTATGGCTAGGCATTCAGGAACCGGAGAACGCTTCAGACCAGCCCGGACTGGGAACCTGCGGGCAGTAGGTGGAAT\n",
            "87\n",
            "ID: Rosalind_0808\n",
            "Name: Rosalind_0808\n",
            "Description: Rosalind_0808\n",
            "Number of features: 0\n",
            "Seq('CCACCCTCGTGGTATGGCTAGGCATTCAGGAACCGGAGAACGCTTCAGACCAGC...AAT')\n",
            "GC content 60.91954022988506\n",
            "--------------------\n"
          ]
        }
      ],
      "source": [
        "\n",
        "for seq_record in parse(\"../practice_9.txt\", \"fasta\"):\n",
        "    print (seq_record.id)\n",
        "    print (seq_record.seq)\n",
        "    print (len(seq_record.seq))\n",
        "    print (seq_record)\n",
        "    print (f'GC content {gc_fraction(seq_record.seq)*100.00}')\n",
        "    print(\"--------------------\")"
      ]
    },
    {
      "cell_type": "markdown",
      "metadata": {
        "id": "nJeXcQR7HwOf"
      },
      "source": [
        "####**TASK P23.2** <font color=orange> **Complete Rosalind #9  Computing GC Content**</font>"
      ]
    },
    {
      "cell_type": "code",
      "execution_count": 175,
      "metadata": {},
      "outputs": [
        {
          "name": "stdout",
          "output_type": "stream",
          "text": [
            "Rosalind_6977\n",
            "50.22522522522522\n"
          ]
        }
      ],
      "source": [
        "dict2 ={}\n",
        "for seq_record in parse(\"../rosalind_gc.txt\", \"fasta\"):\n",
        "    dict2[seq_record.id] = gc_fraction(seq_record.seq)*100.00\n",
        "dict2\n",
        "max_val = max(dict2.values())\n",
        "for key in dict2.keys():\n",
        "    if dict2[key] == max_val:\n",
        "        print(key)\n",
        "        print(dict2[key])\n"
      ]
    },
    {
      "cell_type": "markdown",
      "metadata": {
        "id": "gavUUL39INzP"
      },
      "source": [
        "####**<font color=crimson>TASK 23.3 Commit to GitHub**</font>"
      ]
    },
    {
      "cell_type": "markdown",
      "metadata": {
        "id": "Zf_OZq9R0dnq"
      },
      "source": []
    }
  ],
  "metadata": {
    "colab": {
      "collapsed_sections": [
        "i4Fo-ddSKWwy",
        "iupO8iI-ZYAe",
        "lY924yM0jckW",
        "NvqGEl4JjpiO",
        "DHzE7CI4lWGw",
        "WD5wnvQkmh6E",
        "kApNvgOLn8lp",
        "kq9QbEttnA4h"
      ],
      "provenance": []
    },
    "kernelspec": {
      "display_name": "Python 3",
      "name": "python3"
    },
    "language_info": {
      "codemirror_mode": {
        "name": "ipython",
        "version": 3
      },
      "file_extension": ".py",
      "mimetype": "text/x-python",
      "name": "python",
      "nbconvert_exporter": "python",
      "pygments_lexer": "ipython3",
      "version": "3.12.5"
    }
  },
  "nbformat": 4,
  "nbformat_minor": 0
}
